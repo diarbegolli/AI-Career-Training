{
  "nbformat": 4,
  "nbformat_minor": 0,
  "metadata": {
    "colab": {
      "provenance": []
    },
    "kernelspec": {
      "name": "python3",
      "display_name": "Python 3"
    },
    "language_info": {
      "name": "python"
    }
  },
  "cells": [
    {
      "cell_type": "code",
      "execution_count": 5,
      "metadata": {
        "colab": {
          "base_uri": "https://localhost:8080/"
        },
        "id": "k7tH_gI6449Z",
        "outputId": "7eba4558-3070-4f01-9b93-aafe803cf011"
      },
      "outputs": [
        {
          "output_type": "stream",
          "name": "stdout",
          "text": [
            "   InvoiceNo SKU  Quantity ProductName Category\n",
            "0        201  A1         2         mug     home\n",
            "1        202  B2         1       shirt  clothes\n",
            "2        203  C3         3         hat  unknown\n",
            "3        204  D4         2         NaN      NaN\n",
            "   InvoiceNo SKU  Quantity ProductName Category  unitPrice  revenue\n",
            "0        201  A1         2         mug     home        5.0     10.0\n",
            "1        202  B2         1       shirt  clothes       15.0     15.0\n",
            "2        203  C3         3         hat  unknown       10.0     30.0\n",
            "3        204  D4         2         NaN      NaN       20.0     40.0\n",
            "  Category  totalRevenue\n",
            "2  unknown          30.0\n",
            "1     home          10.0\n",
            "0  clothes          15.0\n"
          ]
        }
      ],
      "source": [
        "import pandas as pd\n",
        "\n",
        "catalog = pd.DataFrame({\n",
        "    \"SKU\": [\"a1 \", \" b2\", \"c3\", None],\n",
        "    \"ProductName\": [\" Mug \", \"Shirt \", \" Hat\", \"Jeans\"],\n",
        "    \"Category\": [\"HOME \", \" clothes\", None, \"clothes \"]\n",
        "})\n",
        "\n",
        "sales = pd.DataFrame({\n",
        "    \"InvoiceNo\": [201, 202, 203, 204],\n",
        "    \"SKU\": [\"A1\", \"B2\", \"C3\", \"D4\"],\n",
        "    \"Quantity\": [2, 1, 3, 2]\n",
        "})\n",
        "\n",
        "prices = {\"A1\": 5.0, \"B2\": 15.0, \"C3\": 10.0, \"D4\": 20.0}\n",
        "\n",
        "catalog[\"SKU\"] = catalog[\"SKU\"].str.strip().str.upper().fillna(\"unknown\")\n",
        "catalog[\"ProductName\"] = catalog[\"ProductName\"].str.strip().str.lower()\n",
        "catalog[\"Category\"] = catalog[\"Category\"].str.strip().str.lower().fillna(\"unknown\")\n",
        "\n",
        "dfFull = sales.merge(catalog, on=\"SKU\", how=\"left\")\n",
        "\n",
        "print(dfFull)\n",
        "\n",
        "dfFull[\"unitPrice\"] = dfFull[\"SKU\"].map(prices)\n",
        "dfFull[\"revenue\"] = dfFull[\"Quantity\"] * dfFull[\"unitPrice\"]\n",
        "\n",
        "print(dfFull)\n",
        "\n",
        "g = (dfFull.groupby([\"Category\"])[\"revenue\"].sum().reset_index(name=\"totalRevenue\")\n",
        "    .sort_values([\"Category\",\"totalRevenue\"], ascending=[False,True]))\n",
        "\n",
        "print(g)\n"
      ]
    }
  ]
}