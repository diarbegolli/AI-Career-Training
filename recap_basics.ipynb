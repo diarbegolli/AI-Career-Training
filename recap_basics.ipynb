{
  "nbformat": 4,
  "nbformat_minor": 0,
  "metadata": {
    "colab": {
      "provenance": []
    },
    "kernelspec": {
      "name": "python3",
      "display_name": "Python 3"
    },
    "language_info": {
      "name": "python"
    }
  },
  "cells": [
    {
      "cell_type": "code",
      "execution_count": 6,
      "metadata": {
        "colab": {
          "base_uri": "https://localhost:8080/"
        },
        "id": "gU6_vWg6lL8z",
        "outputId": "1b28aef9-f302-4aeb-85b4-b1db3901b5a5"
      },
      "outputs": [
        {
          "output_type": "stream",
          "name": "stdout",
          "text": [
            "   survived  pclass     sex   age  sibsp  parch     fare embarked  class  \\\n",
            "0         0       3    male  22.0      1      0   7.2500        S  Third   \n",
            "1         1       1  female  38.0      1      0  71.2833        C  First   \n",
            "2         1       3  female  26.0      0      0   7.9250        S  Third   \n",
            "3         1       1  female  35.0      1      0  53.1000        S  First   \n",
            "4         0       3    male  35.0      0      0   8.0500        S  Third   \n",
            "\n",
            "     who  adult_male deck  embark_town alive  alone  \n",
            "0    man        True  NaN  Southampton    no  False  \n",
            "1  woman       False    C    Cherbourg   yes  False  \n",
            "2  woman       False  NaN  Southampton   yes   True  \n",
            "3  woman       False    C  Southampton   yes  False  \n",
            "4    man        True  NaN  Southampton    no   True  \n",
            "<class 'pandas.core.frame.DataFrame'>\n",
            "RangeIndex: 891 entries, 0 to 890\n",
            "Data columns (total 15 columns):\n",
            " #   Column       Non-Null Count  Dtype   \n",
            "---  ------       --------------  -----   \n",
            " 0   survived     891 non-null    int64   \n",
            " 1   pclass       891 non-null    int64   \n",
            " 2   sex          891 non-null    object  \n",
            " 3   age          714 non-null    float64 \n",
            " 4   sibsp        891 non-null    int64   \n",
            " 5   parch        891 non-null    int64   \n",
            " 6   fare         891 non-null    float64 \n",
            " 7   embarked     889 non-null    object  \n",
            " 8   class        891 non-null    category\n",
            " 9   who          891 non-null    object  \n",
            " 10  adult_male   891 non-null    bool    \n",
            " 11  deck         203 non-null    category\n",
            " 12  embark_town  889 non-null    object  \n",
            " 13  alive        891 non-null    object  \n",
            " 14  alone        891 non-null    bool    \n",
            "dtypes: bool(2), category(2), float64(2), int64(4), object(5)\n",
            "memory usage: 80.7+ KB\n",
            "None\n",
            "Selected columns:\n",
            "       sex   age     fare\n",
            "0    male  22.0   7.2500\n",
            "1  female  38.0  71.2833\n",
            "2  female  26.0   7.9250\n",
            "3  female  35.0  53.1000\n",
            "4    male  35.0   8.0500\n",
            "\n",
            "Passengers over 50:\n",
            "        sex   age     fare\n",
            "6     male  54.0  51.8625\n",
            "11  female  58.0  26.5500\n",
            "15  female  55.0  16.0000\n",
            "33    male  66.0  10.5000\n",
            "54    male  65.0  61.9792\n",
            "\n",
            "Missing values in 'age':\n",
            " age    177\n",
            "dtype: int64\n"
          ]
        }
      ],
      "source": [
        "import seaborn as sns\n",
        "import pandas as pd\n",
        "\n",
        "# Load Titanic dataset directly from Seaborn\n",
        "titanic = sns.load_dataset(\"titanic\")\n",
        "print(titanic.head())\n",
        "print(titanic.info())\n",
        "\n",
        "# 1) Select specific columns\n",
        "titanic_select = titanic[[\"sex\",\"age\",\"fare\"]]\n",
        "print(\"Selected columns:\\n\", titanic_select.head())\n",
        "\n",
        "# 2) Filter passengers older than 50\n",
        "titanic_over50 = titanic.loc[titanic[\"age\"] > 50, [\"sex\",\"age\",\"fare\"]]\n",
        "print(\"\\nPassengers over 50:\\n\", titanic_over50.head())\n",
        "\n",
        "# 3) Count missing values in 'age' column\n",
        "titanic_null_count = titanic[[\"age\"]].isnull().sum()\n",
        "print(\"\\nMissing values in 'age':\\n\", titanic_null_count)\n",
        "\n",
        "\n",
        "\n",
        "\n",
        "\n",
        "\n",
        "\n",
        "\n",
        "\n",
        "\n",
        "\n",
        "\n",
        "\n",
        "\n"
      ]
    }
  ]
}