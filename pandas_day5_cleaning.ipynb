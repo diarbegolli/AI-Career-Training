{
  "nbformat": 4,
  "nbformat_minor": 0,
  "metadata": {
    "colab": {
      "provenance": []
    },
    "kernelspec": {
      "name": "python3",
      "display_name": "Python 3"
    },
    "language_info": {
      "name": "python"
    }
  },
  "cells": [
    {
      "cell_type": "code",
      "execution_count": 8,
      "metadata": {
        "colab": {
          "base_uri": "https://localhost:8080/"
        },
        "id": "wGyFwXaju_HJ",
        "outputId": "bd938991-3f41-460c-ef4c-b2cdcd31c63a"
      },
      "outputs": [
        {
          "output_type": "stream",
          "name": "stdout",
          "text": [
            "product      object\n",
            "price       float64\n",
            "category     object\n",
            "dtype: object\n",
            "  SKU ProductName Category\n",
            "0  A1         mug     home\n",
            "1  B2     t-shirt  clothes\n",
            "2  C3         hat  unknown\n",
            "3  D4       jeans  clothes\n",
            "   InvoiceNo SKU  Quantity\n",
            "0        101  A1         2\n",
            "1        102  B2         1\n",
            "2        103  C3         3\n",
            "3        104  D4         1\n",
            "   InvoiceNo SKU  Quantity ProductName Category\n",
            "0        101  A1         2         mug     home\n",
            "1        102  B2         1     t-shirt  clothes\n",
            "2        103  C3         3         hat  unknown\n",
            "3        104  D4         1       jeans  clothes\n",
            "   InvoiceNo SKU  Quantity ProductName Category  unitPrice  revenue\n",
            "0        101  A1         2         mug     home        5.0     10.0\n",
            "1        102  B2         1     t-shirt  clothes       15.0     15.0\n",
            "2        103  C3         3         hat  unknown       10.0     30.0\n",
            "3        104  D4         1       jeans  clothes       20.0     20.0\n",
            "   InvoiceNo SKU  Quantity ProductName Category  unitPrice  revenue  discount  net_revenue\n",
            "0        101  A1         2         mug     home        5.0     10.0      0.00         10.0\n",
            "1        102  B2         1     t-shirt  clothes       15.0     15.0      0.10         13.5\n",
            "2        103  C3         3         hat  unknown       10.0     30.0      0.15         25.5\n",
            "3        104  D4         1       jeans  clothes       20.0     20.0      0.05         19.0\n"
          ]
        }
      ],
      "source": [
        "import pandas as pd\n",
        "import numpy as np\n",
        "\n",
        "pd.set_option(\"display.width\",140)\n",
        "pd.set_option(\"display.max_rows\", 40)\n",
        "\n",
        "df = pd.DataFrame({\n",
        "    \"product\": [\"Mug\", \"Shirt\", None, \"Hat\", \"Mug\", \"Shirt\"],\n",
        "    \"price\": [5.0, 15.0, 12.0, None, 5.0, np.nan],\n",
        "    \"category\": [\"Home\", \"Clothes\", \"Clothes\", \"Accessories\", None, \"Clothes\"]\n",
        "})\n",
        "\n",
        "\t#\t•\tNone = Python’s built-in “nothing.”\n",
        "\t# •\tnp.nan = NumPy’s special “not a number.” Pandas treats both as NA (missing).\n",
        "\n",
        "df.isna().sum()     # .isna() → returns true/false for missing values -- .sum() → counts them (True = 1, False = 0).\n",
        "\n",
        "df.fillna(value=1)  #.fillna() replaces NA with a value you decide.\n",
        "\n",
        "df.dropna()         #Removes rows that contain NA in any column (or selected columns if subset=).\n",
        "\n",
        "print(df.dtypes)\n",
        "\n",
        "df[\"cleanProduct\"] = df[\"product\"].str.strip().str.lower()  # .str.strip() → removes spaces start/end -- .str.lower() → lowercase everything\n",
        "\n",
        "catalog = pd.DataFrame({\n",
        "    \"SKU\": [\"A1\", \"B2\", \"C3\", \"d4 \"],\n",
        "    \"ProductName\": [\" Mug \", \"t-shirt\", \"Hat\", \"Jeans\"],\n",
        "    \"Category\": [\"HOME\", \"clothes \", None, \"clothes\"]\n",
        "})\n",
        "\n",
        "sales = pd.DataFrame({\n",
        "    \"InvoiceNo\": [101,102,103,104],\n",
        "    \"SKU\": [\"A1\",\"B2\",\"C3\",\"D4\"],\n",
        "    \"Quantity\": [2,1,3,1]\n",
        "})\n",
        "\n",
        "catalog[\"ProductName\"] = catalog[\"ProductName\"].str.strip().str.lower()\n",
        "catalog[\"Category\"] = catalog[\"Category\"].str.strip().str.lower().fillna(\"unknown\")\n",
        "catalog[\"SKU\"] = catalog[\"SKU\"].str.upper().str.strip()\n",
        "\n",
        "print(catalog)\n",
        "print(sales)\n",
        "\n",
        "dfFull = sales.merge(catalog, on=\"SKU\", how=\"left\")\n",
        "\n",
        "print(dfFull)\n",
        "\n",
        "prices = {\"A1\": 5.0, \"B2\": 15.0, \"C3\": 10.0, \"D4\": 20.0}\n",
        "\n",
        "dfFull[\"unitPrice\"] = dfFull[\"SKU\"].map(prices)\n",
        "dfFull[\"revenue\"] = dfFull[\"Quantity\"] * dfFull[\"unitPrice\"]\n",
        "print(dfFull)\n",
        "\n",
        "discounts = {\"A1\": 0.0, \"B2\": 0.1, \"C3\": 0.15, \"D4\": 0.05}\n",
        "\n",
        "dfFull[\"discount\"] = dfFull[\"SKU\"].map(discounts).fillna(0.0)\n",
        "dfFull[\"net_revenue\"] = dfFull[\"revenue\"] * (1 - dfFull[\"discount\"])\n",
        "\n",
        "print(dfFull)\n",
        "\n",
        "\n"
      ]
    }
  ]
}