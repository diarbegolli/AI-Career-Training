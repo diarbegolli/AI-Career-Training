{
  "nbformat": 4,
  "nbformat_minor": 0,
  "metadata": {
    "colab": {
      "provenance": []
    },
    "kernelspec": {
      "name": "python3",
      "display_name": "Python 3"
    },
    "language_info": {
      "name": "python"
    }
  },
  "cells": [
    {
      "cell_type": "code",
      "execution_count": 14,
      "metadata": {
        "colab": {
          "base_uri": "https://localhost:8080/"
        },
        "id": "5KSTVJw9tWxy",
        "outputId": "4d1e9d22-1e2c-4c29-8fb4-5da3b3fe9a84"
      },
      "outputs": [
        {
          "output_type": "stream",
          "name": "stdout",
          "text": [
            "\n",
            "PIVOT (mean fare by sex × class):\n",
            " class        First     Second      Third\n",
            "sex                                     \n",
            "female  107.946275  21.951070  15.875369\n",
            "male     71.142781  21.113131  12.162695\n",
            "\n",
            "STACKED (long):\n",
            "       sex   class    avg_fare\n",
            "0  female   First  107.946275\n",
            "1  female  Second   21.951070\n",
            "2  female   Third   15.875369\n",
            "3    male   First   71.142781\n",
            "4    male  Second   21.113131\n",
            "\n",
            "UNSTACKED (back to wide):\n",
            " class        First     Second      Third\n",
            "sex                                     \n",
            "female  107.946275  21.951070  15.875369\n",
            "male     71.142781  21.113131  12.162695\n",
            "\n",
            "MELTED (tidy long fare/age):\n",
            "       sex  class  survived metric    value\n",
            "0    male  Third         0   fare   7.2500\n",
            "1  female  First         1   fare  71.2833\n",
            "2  female  Third         1   fare   7.9250\n",
            "3  female  First         1   fare  53.1000\n",
            "4    male  Third         0   fare   8.0500\n",
            "sex     class \n",
            "female  First     107.946275\n",
            "        Second     21.951070\n",
            "        Third      15.875369\n",
            "male    First      71.142781\n",
            "        Second     21.113131\n",
            "        Third      12.162695\n",
            "Name: avg_fare, dtype: float64\n"
          ]
        },
        {
          "output_type": "stream",
          "name": "stderr",
          "text": [
            "/tmp/ipython-input-1362775218.py:13: FutureWarning: The default value of observed=False is deprecated and will change to observed=True in a future version of pandas. Specify observed=False to silence this warning and retain the current behavior\n",
            "  pivot = pd.pivot_table(\n",
            "/tmp/ipython-input-1362775218.py:47: FutureWarning: The default of observed=False is deprecated and will be changed to True in a future version of pandas. Pass observed=False to retain current behavior or observed=True to adopt the future default and silence this warning.\n",
            "  compare = stacked.groupby([\"sex\",\"class\"])[\"avg_fare\"].mean()\n"
          ]
        }
      ],
      "source": [
        "import seaborn as sns\n",
        "import pandas as pd\n",
        "\n",
        "# 1) Load + keep only columns we need\n",
        "titanic = sns.load_dataset(\"titanic\")\n",
        "df = titanic[[\"sex\",\"class\",\"fare\",\"survived\",\"age\"]].copy()\n",
        "\n",
        "# 2) Drop rows with missing values in the fields we actually use\n",
        "#    (drop rows, not columns)\n",
        "df = df.dropna(subset=[\"sex\",\"class\",\"fare\",\"survived\",\"age\"])\n",
        "\n",
        "# 3) PIVOT: mean fare by sex × class  (wide format)\n",
        "pivot = pd.pivot_table(\n",
        "    df,\n",
        "    values=\"fare\",\n",
        "    index=\"sex\",\n",
        "    columns=\"class\",\n",
        "    aggfunc=\"mean\"\n",
        ")\n",
        "print(\"\\nPIVOT (mean fare by sex × class):\\n\", pivot)\n",
        "\n",
        "# 4) STACK: wide → long (columns 'class' folded into rows)\n",
        "#    After stack, you get a Series with a name; reset_index to get a tidy DataFrame\n",
        "stacked = pivot.stack().reset_index(name=\"avg_fare\")\n",
        "# columns now: ['sex', 'class', 'avg_fare']\n",
        "print(\"\\nSTACKED (long):\\n\", stacked.head())\n",
        "\n",
        "# 5) UNSTACK: long → wide (rebuild the matrix)\n",
        "#    Set a MultiIndex first, then unstack the 'class' level\n",
        "unstacked = (stacked\n",
        "             .set_index([\"sex\",\"class\"])   # make the two keys an index\n",
        "             .unstack(\"class\"))            # spread 'class' back to columns\n",
        "# After unstack, you get a DataFrame with a column MultiIndex ('avg_fare' on top).\n",
        "# For a cleaner look, collapse it:\n",
        "unstacked.columns = unstacked.columns.get_level_values(-1)  # keep only 'class' names\n",
        "print(\"\\nUNSTACKED (back to wide):\\n\", unstacked)\n",
        "\n",
        "melted = df.melt(\n",
        "    id_vars=[\"sex\",\"class\",\"survived\"],  # keep these as identifiers\n",
        "    value_vars=[\"fare\",\"age\"],           # turn these two columns into rows\n",
        "    var_name=\"metric\",\n",
        "    value_name=\"value\"\n",
        ")\n",
        "print(\"\\nMELTED (tidy long fare/age):\\n\", melted.head())\n",
        "\n",
        "\n",
        "compare = stacked.groupby([\"sex\",\"class\"])[\"avg_fare\"].mean()\n",
        "print(compare)"
      ]
    },
    {
      "cell_type": "code",
      "source": [],
      "metadata": {
        "id": "ynKWNsqNyE0z"
      },
      "execution_count": 14,
      "outputs": []
    }
  ]
}