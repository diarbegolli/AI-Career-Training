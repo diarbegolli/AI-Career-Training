{
  "nbformat": 4,
  "nbformat_minor": 0,
  "metadata": {
    "colab": {
      "provenance": []
    },
    "kernelspec": {
      "name": "python3",
      "display_name": "Python 3"
    },
    "language_info": {
      "name": "python"
    }
  },
  "cells": [
    {
      "cell_type": "code",
      "execution_count": 12,
      "metadata": {
        "colab": {
          "base_uri": "https://localhost:8080/"
        },
        "id": "HB2UYa8GoOQ3",
        "outputId": "e8b49c9a-818a-4730-92fa-719f03c6625e"
      },
      "outputs": [
        {
          "output_type": "stream",
          "name": "stdout",
          "text": [
            "   survived  pclass     sex   age  sibsp  parch     fare embarked  class  \\\n",
            "0         0       3    male  22.0      1      0   7.2500        S  Third   \n",
            "1         1       1  female  38.0      1      0  71.2833        C  First   \n",
            "2         1       3  female  26.0      0      0   7.9250        S  Third   \n",
            "3         1       1  female  35.0      1      0  53.1000        S  First   \n",
            "4         0       3    male  35.0      0      0   8.0500        S  Third   \n",
            "\n",
            "     who  adult_male deck  embark_town alive  alone  \n",
            "0    man        True  NaN  Southampton    no  False  \n",
            "1  woman       False    C    Cherbourg   yes  False  \n",
            "2  woman       False  NaN  Southampton   yes   True  \n",
            "3  woman       False    C  Southampton   yes  False  \n",
            "4    man        True  NaN  Southampton    no   True  \n",
            "<class 'pandas.core.frame.DataFrame'>\n",
            "RangeIndex: 891 entries, 0 to 890\n",
            "Data columns (total 15 columns):\n",
            " #   Column       Non-Null Count  Dtype   \n",
            "---  ------       --------------  -----   \n",
            " 0   survived     891 non-null    int64   \n",
            " 1   pclass       891 non-null    int64   \n",
            " 2   sex          891 non-null    object  \n",
            " 3   age          714 non-null    float64 \n",
            " 4   sibsp        891 non-null    int64   \n",
            " 5   parch        891 non-null    int64   \n",
            " 6   fare         891 non-null    float64 \n",
            " 7   embarked     889 non-null    object  \n",
            " 8   class        891 non-null    category\n",
            " 9   who          891 non-null    object  \n",
            " 10  adult_male   891 non-null    bool    \n",
            " 11  deck         203 non-null    category\n",
            " 12  embark_town  889 non-null    object  \n",
            " 13  alive        891 non-null    object  \n",
            " 14  alone        891 non-null    bool    \n",
            "dtypes: bool(2), category(2), float64(2), int64(4), object(5)\n",
            "memory usage: 80.7+ KB\n",
            "None\n",
            "Survival rate by sex & class:\n",
            "       sex   class  survival_rate\n",
            "0  female   First       0.968085\n",
            "1  female  Second       0.921053\n",
            "2  female   Third       0.500000\n",
            "3    male   First       0.368852\n",
            "4    male  Second       0.157407\n",
            "5    male   Third       0.135447\n",
            "\n",
            "Average fare (pivot):\n",
            " class    First  Second  Third\n",
            "sex                          \n",
            "female  106.13   21.97  16.12\n",
            "male     67.23   19.74  12.66\n"
          ]
        },
        {
          "output_type": "stream",
          "name": "stderr",
          "text": [
            "/tmp/ipython-input-1494095915.py:19: FutureWarning: The default of observed=False is deprecated and will be changed to True in a future version of pandas. Pass observed=False to retain current behavior or observed=True to adopt the future default and silence this warning.\n",
            "  titanic.groupby([\"sex\", \"class\"])[\"survived\"]\n",
            "/tmp/ipython-input-1494095915.py:27: FutureWarning: The default value of observed=False is deprecated and will change to observed=True in a future version of pandas. Specify observed=False to silence this warning and retain the current behavior\n",
            "  average_fare = pd.pivot_table(\n"
          ]
        }
      ],
      "source": [
        "import seaborn as sns\n",
        "import pandas as pd\n",
        "\n",
        "# Load Titanic dataset directly from Seaborn\n",
        "titanic = sns.load_dataset(\"titanic\")\n",
        "print(titanic.head())\n",
        "print(titanic.info())\n",
        "\n",
        "# --- Part 2: cleaning + engineered feature + groupby + pivot ---\n",
        "\n",
        "\n",
        "titanic[\"age\"] = titanic[\"age\"].fillna(titanic[\"age\"].median())\n",
        "\n",
        "# 2) Family size feature (siblings/spouses + parents/children)\n",
        "titanic[\"family_size\"] = titanic[\"sibsp\"] + titanic[\"parch\"]\n",
        "\n",
        "# 3) Survival rate by sex & class\n",
        "survival_rate = (\n",
        "    titanic.groupby([\"sex\", \"class\"])[\"survived\"]\n",
        "           .mean()\n",
        "           .reset_index(name=\"survival_rate\")\n",
        "           .sort_values([\"sex\", \"class\"])\n",
        ")\n",
        "print(\"Survival rate by sex & class:\\n\", survival_rate.head(10))\n",
        "\n",
        "# 4) Average fare pivot (rows=sex, columns=class)\n",
        "average_fare = pd.pivot_table(\n",
        "    titanic,\n",
        "    values=\"fare\",\n",
        "    index=\"sex\",\n",
        "    columns=\"class\",\n",
        "    aggfunc=\"mean\"\n",
        ").round(2)\n",
        "\n",
        "print(\"\\nAverage fare (pivot):\\n\", average_fare)\n",
        "\n",
        "\n"
      ]
    }
  ]
}